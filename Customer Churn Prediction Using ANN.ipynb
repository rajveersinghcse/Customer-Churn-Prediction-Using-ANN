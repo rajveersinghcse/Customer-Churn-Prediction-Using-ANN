{
 "cells": [
  {
   "cell_type": "code",
   "execution_count": 1,
   "id": "ab737f04",
   "metadata": {},
   "outputs": [
    {
     "name": "stdout",
     "output_type": "stream",
     "text": [
      "WARNING:tensorflow:From C:\\Users\\MrGoku\\AppData\\Roaming\\Python\\Python311\\site-packages\\keras\\src\\losses.py:2976: The name tf.losses.sparse_softmax_cross_entropy is deprecated. Please use tf.compat.v1.losses.sparse_softmax_cross_entropy instead.\n",
      "\n"
     ]
    }
   ],
   "source": [
    "import numpy as np\n",
    "import pandas as pd\n",
    "import tensorflow as tf"
   ]
  },
  {
   "cell_type": "code",
   "execution_count": 2,
   "id": "2d697892",
   "metadata": {},
   "outputs": [
    {
     "data": {
      "text/html": [
       "<div>\n",
       "<style scoped>\n",
       "    .dataframe tbody tr th:only-of-type {\n",
       "        vertical-align: middle;\n",
       "    }\n",
       "\n",
       "    .dataframe tbody tr th {\n",
       "        vertical-align: top;\n",
       "    }\n",
       "\n",
       "    .dataframe thead th {\n",
       "        text-align: right;\n",
       "    }\n",
       "</style>\n",
       "<table border=\"1\" class=\"dataframe\">\n",
       "  <thead>\n",
       "    <tr style=\"text-align: right;\">\n",
       "      <th></th>\n",
       "      <th>RowNumber</th>\n",
       "      <th>CustomerId</th>\n",
       "      <th>Surname</th>\n",
       "      <th>CreditScore</th>\n",
       "      <th>Geography</th>\n",
       "      <th>Gender</th>\n",
       "      <th>Age</th>\n",
       "      <th>Tenure</th>\n",
       "      <th>Balance</th>\n",
       "      <th>NumOfProducts</th>\n",
       "      <th>HasCrCard</th>\n",
       "      <th>IsActiveMember</th>\n",
       "      <th>EstimatedSalary</th>\n",
       "      <th>Exited</th>\n",
       "    </tr>\n",
       "  </thead>\n",
       "  <tbody>\n",
       "    <tr>\n",
       "      <th>0</th>\n",
       "      <td>1</td>\n",
       "      <td>15634602</td>\n",
       "      <td>Hargrave</td>\n",
       "      <td>619</td>\n",
       "      <td>France</td>\n",
       "      <td>Female</td>\n",
       "      <td>42</td>\n",
       "      <td>2</td>\n",
       "      <td>0.00</td>\n",
       "      <td>1</td>\n",
       "      <td>1</td>\n",
       "      <td>1</td>\n",
       "      <td>101348.88</td>\n",
       "      <td>1</td>\n",
       "    </tr>\n",
       "    <tr>\n",
       "      <th>1</th>\n",
       "      <td>2</td>\n",
       "      <td>15647311</td>\n",
       "      <td>Hill</td>\n",
       "      <td>608</td>\n",
       "      <td>Spain</td>\n",
       "      <td>Female</td>\n",
       "      <td>41</td>\n",
       "      <td>1</td>\n",
       "      <td>83807.86</td>\n",
       "      <td>1</td>\n",
       "      <td>0</td>\n",
       "      <td>1</td>\n",
       "      <td>112542.58</td>\n",
       "      <td>0</td>\n",
       "    </tr>\n",
       "    <tr>\n",
       "      <th>2</th>\n",
       "      <td>3</td>\n",
       "      <td>15619304</td>\n",
       "      <td>Onio</td>\n",
       "      <td>502</td>\n",
       "      <td>France</td>\n",
       "      <td>Female</td>\n",
       "      <td>42</td>\n",
       "      <td>8</td>\n",
       "      <td>159660.80</td>\n",
       "      <td>3</td>\n",
       "      <td>1</td>\n",
       "      <td>0</td>\n",
       "      <td>113931.57</td>\n",
       "      <td>1</td>\n",
       "    </tr>\n",
       "    <tr>\n",
       "      <th>3</th>\n",
       "      <td>4</td>\n",
       "      <td>15701354</td>\n",
       "      <td>Boni</td>\n",
       "      <td>699</td>\n",
       "      <td>France</td>\n",
       "      <td>Female</td>\n",
       "      <td>39</td>\n",
       "      <td>1</td>\n",
       "      <td>0.00</td>\n",
       "      <td>2</td>\n",
       "      <td>0</td>\n",
       "      <td>0</td>\n",
       "      <td>93826.63</td>\n",
       "      <td>0</td>\n",
       "    </tr>\n",
       "    <tr>\n",
       "      <th>4</th>\n",
       "      <td>5</td>\n",
       "      <td>15737888</td>\n",
       "      <td>Mitchell</td>\n",
       "      <td>850</td>\n",
       "      <td>Spain</td>\n",
       "      <td>Female</td>\n",
       "      <td>43</td>\n",
       "      <td>2</td>\n",
       "      <td>125510.82</td>\n",
       "      <td>1</td>\n",
       "      <td>1</td>\n",
       "      <td>1</td>\n",
       "      <td>79084.10</td>\n",
       "      <td>0</td>\n",
       "    </tr>\n",
       "  </tbody>\n",
       "</table>\n",
       "</div>"
      ],
      "text/plain": [
       "   RowNumber  CustomerId   Surname  CreditScore Geography  Gender  Age  \\\n",
       "0          1    15634602  Hargrave          619    France  Female   42   \n",
       "1          2    15647311      Hill          608     Spain  Female   41   \n",
       "2          3    15619304      Onio          502    France  Female   42   \n",
       "3          4    15701354      Boni          699    France  Female   39   \n",
       "4          5    15737888  Mitchell          850     Spain  Female   43   \n",
       "\n",
       "   Tenure    Balance  NumOfProducts  HasCrCard  IsActiveMember  \\\n",
       "0       2       0.00              1          1               1   \n",
       "1       1   83807.86              1          0               1   \n",
       "2       8  159660.80              3          1               0   \n",
       "3       1       0.00              2          0               0   \n",
       "4       2  125510.82              1          1               1   \n",
       "\n",
       "   EstimatedSalary  Exited  \n",
       "0        101348.88       1  \n",
       "1        112542.58       0  \n",
       "2        113931.57       1  \n",
       "3         93826.63       0  \n",
       "4         79084.10       0  "
      ]
     },
     "execution_count": 2,
     "metadata": {},
     "output_type": "execute_result"
    }
   ],
   "source": [
    "data=pd.read_csv(\"Churn_Modelling.csv\")\n",
    "data.head()"
   ]
  },
  {
   "cell_type": "code",
   "execution_count": 3,
   "id": "6e08f66d",
   "metadata": {},
   "outputs": [
    {
     "data": {
      "text/html": [
       "<div>\n",
       "<style scoped>\n",
       "    .dataframe tbody tr th:only-of-type {\n",
       "        vertical-align: middle;\n",
       "    }\n",
       "\n",
       "    .dataframe tbody tr th {\n",
       "        vertical-align: top;\n",
       "    }\n",
       "\n",
       "    .dataframe thead th {\n",
       "        text-align: right;\n",
       "    }\n",
       "</style>\n",
       "<table border=\"1\" class=\"dataframe\">\n",
       "  <thead>\n",
       "    <tr style=\"text-align: right;\">\n",
       "      <th></th>\n",
       "      <th>RowNumber</th>\n",
       "      <th>CustomerId</th>\n",
       "      <th>Surname</th>\n",
       "      <th>CreditScore</th>\n",
       "      <th>Geography</th>\n",
       "      <th>Gender</th>\n",
       "      <th>Age</th>\n",
       "      <th>Tenure</th>\n",
       "      <th>Balance</th>\n",
       "      <th>NumOfProducts</th>\n",
       "      <th>HasCrCard</th>\n",
       "      <th>IsActiveMember</th>\n",
       "      <th>EstimatedSalary</th>\n",
       "      <th>Exited</th>\n",
       "    </tr>\n",
       "  </thead>\n",
       "  <tbody>\n",
       "    <tr>\n",
       "      <th>0</th>\n",
       "      <td>1</td>\n",
       "      <td>15634602</td>\n",
       "      <td>Hargrave</td>\n",
       "      <td>619</td>\n",
       "      <td>France</td>\n",
       "      <td>Female</td>\n",
       "      <td>42</td>\n",
       "      <td>2</td>\n",
       "      <td>0.00</td>\n",
       "      <td>1</td>\n",
       "      <td>1</td>\n",
       "      <td>1</td>\n",
       "      <td>101348.88</td>\n",
       "      <td>1</td>\n",
       "    </tr>\n",
       "    <tr>\n",
       "      <th>1</th>\n",
       "      <td>2</td>\n",
       "      <td>15647311</td>\n",
       "      <td>Hill</td>\n",
       "      <td>608</td>\n",
       "      <td>Spain</td>\n",
       "      <td>Female</td>\n",
       "      <td>41</td>\n",
       "      <td>1</td>\n",
       "      <td>83807.86</td>\n",
       "      <td>1</td>\n",
       "      <td>0</td>\n",
       "      <td>1</td>\n",
       "      <td>112542.58</td>\n",
       "      <td>0</td>\n",
       "    </tr>\n",
       "    <tr>\n",
       "      <th>2</th>\n",
       "      <td>3</td>\n",
       "      <td>15619304</td>\n",
       "      <td>Onio</td>\n",
       "      <td>502</td>\n",
       "      <td>France</td>\n",
       "      <td>Female</td>\n",
       "      <td>42</td>\n",
       "      <td>8</td>\n",
       "      <td>159660.80</td>\n",
       "      <td>3</td>\n",
       "      <td>1</td>\n",
       "      <td>0</td>\n",
       "      <td>113931.57</td>\n",
       "      <td>1</td>\n",
       "    </tr>\n",
       "    <tr>\n",
       "      <th>3</th>\n",
       "      <td>4</td>\n",
       "      <td>15701354</td>\n",
       "      <td>Boni</td>\n",
       "      <td>699</td>\n",
       "      <td>France</td>\n",
       "      <td>Female</td>\n",
       "      <td>39</td>\n",
       "      <td>1</td>\n",
       "      <td>0.00</td>\n",
       "      <td>2</td>\n",
       "      <td>0</td>\n",
       "      <td>0</td>\n",
       "      <td>93826.63</td>\n",
       "      <td>0</td>\n",
       "    </tr>\n",
       "    <tr>\n",
       "      <th>4</th>\n",
       "      <td>5</td>\n",
       "      <td>15737888</td>\n",
       "      <td>Mitchell</td>\n",
       "      <td>850</td>\n",
       "      <td>Spain</td>\n",
       "      <td>Female</td>\n",
       "      <td>43</td>\n",
       "      <td>2</td>\n",
       "      <td>125510.82</td>\n",
       "      <td>1</td>\n",
       "      <td>1</td>\n",
       "      <td>1</td>\n",
       "      <td>79084.10</td>\n",
       "      <td>0</td>\n",
       "    </tr>\n",
       "  </tbody>\n",
       "</table>\n",
       "</div>"
      ],
      "text/plain": [
       "   RowNumber  CustomerId   Surname  CreditScore Geography  Gender  Age  \\\n",
       "0          1    15634602  Hargrave          619    France  Female   42   \n",
       "1          2    15647311      Hill          608     Spain  Female   41   \n",
       "2          3    15619304      Onio          502    France  Female   42   \n",
       "3          4    15701354      Boni          699    France  Female   39   \n",
       "4          5    15737888  Mitchell          850     Spain  Female   43   \n",
       "\n",
       "   Tenure    Balance  NumOfProducts  HasCrCard  IsActiveMember  \\\n",
       "0       2       0.00              1          1               1   \n",
       "1       1   83807.86              1          0               1   \n",
       "2       8  159660.80              3          1               0   \n",
       "3       1       0.00              2          0               0   \n",
       "4       2  125510.82              1          1               1   \n",
       "\n",
       "   EstimatedSalary  Exited  \n",
       "0        101348.88       1  \n",
       "1        112542.58       0  \n",
       "2        113931.57       1  \n",
       "3         93826.63       0  \n",
       "4         79084.10       0  "
      ]
     },
     "execution_count": 3,
     "metadata": {},
     "output_type": "execute_result"
    }
   ],
   "source": [
    "#data.drop(\"RowNumber\", axis=1, inplace=True)\n",
    "#data.drop(\"CustomerId\", axis=1, inplace=True)\n",
    "#data.drop(\"Surname\", axis=1, inplace=True)\n",
    "data.head()"
   ]
  },
  {
   "cell_type": "code",
   "execution_count": 4,
   "id": "b0b4e619",
   "metadata": {},
   "outputs": [],
   "source": [
    "#X=data.iloc[:,0:10].values\n",
    "#Y=data.iloc[:,-1].values\n",
    "\n",
    "#dataset = pd.read_csv('Churn_Modelling.csv')\n",
    "X = data.iloc[:, 3:-1].values\n",
    "y = data.iloc[:, -1].values"
   ]
  },
  {
   "cell_type": "code",
   "execution_count": 5,
   "id": "89a1d82b",
   "metadata": {},
   "outputs": [],
   "source": [
    "from sklearn.preprocessing import LabelEncoder\n",
    "le=LabelEncoder()\n",
    "X[:,2]=le.fit_transform(X[:,2])\n"
   ]
  },
  {
   "cell_type": "code",
   "execution_count": 6,
   "id": "64b072f7",
   "metadata": {},
   "outputs": [
    {
     "name": "stdout",
     "output_type": "stream",
     "text": [
      "[[1.0 0.0 0.0 ... 1 1 101348.88]\n",
      " [0.0 0.0 1.0 ... 0 1 112542.58]\n",
      " [1.0 0.0 0.0 ... 1 0 113931.57]\n",
      " ...\n",
      " [1.0 0.0 0.0 ... 0 1 42085.58]\n",
      " [0.0 1.0 0.0 ... 1 0 92888.52]\n",
      " [1.0 0.0 0.0 ... 1 0 38190.78]]\n"
     ]
    }
   ],
   "source": [
    "from sklearn.compose import ColumnTransformer\n",
    "from sklearn.preprocessing import OneHotEncoder\n",
    "ct=ColumnTransformer(transformers=[(\"encode\",OneHotEncoder(),[1])],remainder='passthrough')\n",
    "X=np.array(ct.fit_transform(X))\n",
    "print(X)\n"
   ]
  },
  {
   "cell_type": "code",
   "execution_count": 7,
   "id": "91187e4f",
   "metadata": {},
   "outputs": [],
   "source": [
    "from sklearn.model_selection import train_test_split\n",
    "X_train,X_test,Y_train,Y_test=train_test_split(X,y,test_size=0.2,random_state=0)"
   ]
  },
  {
   "cell_type": "code",
   "execution_count": 8,
   "id": "d873a9d9",
   "metadata": {},
   "outputs": [],
   "source": [
    "from sklearn.preprocessing import StandardScaler\n",
    "sc=StandardScaler()\n",
    "X_train=sc.fit_transform(X_train)\n",
    "X_test=sc.transform(X_test)\n",
    "\n"
   ]
  },
  {
   "cell_type": "markdown",
   "id": "b12ac500",
   "metadata": {},
   "source": [
    "# Initialize ANN"
   ]
  },
  {
   "cell_type": "code",
   "execution_count": 9,
   "id": "769d2dae",
   "metadata": {},
   "outputs": [
    {
     "name": "stdout",
     "output_type": "stream",
     "text": [
      "WARNING:tensorflow:From C:\\Users\\MrGoku\\AppData\\Roaming\\Python\\Python311\\site-packages\\keras\\src\\backend.py:873: The name tf.get_default_graph is deprecated. Please use tf.compat.v1.get_default_graph instead.\n",
      "\n"
     ]
    }
   ],
   "source": [
    "ann=tf.keras.models.Sequential()\n",
    "#adding input layer and first hidden layer\n",
    "ann.add(tf.keras.layers.Dense(units=6,activation='relu'))\n",
    "#adding the second hidden layer\n",
    "ann.add(tf.keras.layers.Dense(units=6,activation='relu'))\n",
    "#adding the output layer\n",
    "ann.add(tf.keras.layers.Dense(units=1,activation='sigmoid'))"
   ]
  },
  {
   "cell_type": "markdown",
   "id": "327f041d",
   "metadata": {},
   "source": [
    "## Compiling the ANN"
   ]
  },
  {
   "cell_type": "code",
   "execution_count": 10,
   "id": "dd4b67c1",
   "metadata": {},
   "outputs": [
    {
     "name": "stdout",
     "output_type": "stream",
     "text": [
      "WARNING:tensorflow:From C:\\Users\\MrGoku\\AppData\\Roaming\\Python\\Python311\\site-packages\\keras\\src\\optimizers\\__init__.py:309: The name tf.train.Optimizer is deprecated. Please use tf.compat.v1.train.Optimizer instead.\n",
      "\n"
     ]
    }
   ],
   "source": [
    "ann.compile(optimizer='adam',loss='binary_crossentropy',metrics=['accuracy'])"
   ]
  },
  {
   "cell_type": "markdown",
   "id": "60c23f1c",
   "metadata": {},
   "source": [
    "## Trainig the ANN model on training set"
   ]
  },
  {
   "cell_type": "code",
   "execution_count": 11,
   "id": "cdd1543e",
   "metadata": {},
   "outputs": [
    {
     "name": "stdout",
     "output_type": "stream",
     "text": [
      "Epoch 1/100\n",
      "WARNING:tensorflow:From C:\\Users\\MrGoku\\AppData\\Roaming\\Python\\Python311\\site-packages\\keras\\src\\utils\\tf_utils.py:492: The name tf.ragged.RaggedTensorValue is deprecated. Please use tf.compat.v1.ragged.RaggedTensorValue instead.\n",
      "\n",
      "WARNING:tensorflow:From C:\\Users\\MrGoku\\AppData\\Roaming\\Python\\Python311\\site-packages\\keras\\src\\engine\\base_layer_utils.py:384: The name tf.executing_eagerly_outside_functions is deprecated. Please use tf.compat.v1.executing_eagerly_outside_functions instead.\n",
      "\n",
      "250/250 [==============================] - 1s 1ms/step - loss: 0.7491 - accuracy: 0.4891\n",
      "Epoch 2/100\n",
      "250/250 [==============================] - 0s 942us/step - loss: 0.5198 - accuracy: 0.7944\n",
      "Epoch 3/100\n",
      "250/250 [==============================] - 0s 1ms/step - loss: 0.4612 - accuracy: 0.8092\n",
      "Epoch 4/100\n",
      "250/250 [==============================] - 0s 963us/step - loss: 0.4386 - accuracy: 0.8164\n",
      "Epoch 5/100\n",
      "250/250 [==============================] - 0s 1ms/step - loss: 0.4260 - accuracy: 0.8173\n",
      "Epoch 6/100\n",
      "250/250 [==============================] - 0s 1ms/step - loss: 0.4144 - accuracy: 0.8194\n",
      "Epoch 7/100\n",
      "250/250 [==============================] - 0s 1ms/step - loss: 0.4011 - accuracy: 0.8256\n",
      "Epoch 8/100\n",
      "250/250 [==============================] - 0s 1ms/step - loss: 0.3879 - accuracy: 0.8321\n",
      "Epoch 9/100\n",
      "250/250 [==============================] - 0s 992us/step - loss: 0.3764 - accuracy: 0.8396\n",
      "Epoch 10/100\n",
      "250/250 [==============================] - 0s 967us/step - loss: 0.3680 - accuracy: 0.8459\n",
      "Epoch 11/100\n",
      "250/250 [==============================] - 0s 1ms/step - loss: 0.3624 - accuracy: 0.8469\n",
      "Epoch 12/100\n",
      "250/250 [==============================] - 0s 998us/step - loss: 0.3582 - accuracy: 0.8505\n",
      "Epoch 13/100\n",
      "250/250 [==============================] - 0s 1ms/step - loss: 0.3555 - accuracy: 0.8505\n",
      "Epoch 14/100\n",
      "250/250 [==============================] - 0s 943us/step - loss: 0.3530 - accuracy: 0.8545\n",
      "Epoch 15/100\n",
      "250/250 [==============================] - 0s 889us/step - loss: 0.3511 - accuracy: 0.8541\n",
      "Epoch 16/100\n",
      "250/250 [==============================] - 0s 950us/step - loss: 0.3497 - accuracy: 0.8541\n",
      "Epoch 17/100\n",
      "250/250 [==============================] - 0s 996us/step - loss: 0.3484 - accuracy: 0.8574\n",
      "Epoch 18/100\n",
      "250/250 [==============================] - 0s 966us/step - loss: 0.3473 - accuracy: 0.8547\n",
      "Epoch 19/100\n",
      "250/250 [==============================] - 0s 943us/step - loss: 0.3460 - accuracy: 0.8584\n",
      "Epoch 20/100\n",
      "250/250 [==============================] - 0s 1ms/step - loss: 0.3453 - accuracy: 0.8566\n",
      "Epoch 21/100\n",
      "250/250 [==============================] - 0s 963us/step - loss: 0.3445 - accuracy: 0.8585\n",
      "Epoch 22/100\n",
      "250/250 [==============================] - 0s 998us/step - loss: 0.3438 - accuracy: 0.8591\n",
      "Epoch 23/100\n",
      "250/250 [==============================] - 0s 1ms/step - loss: 0.3433 - accuracy: 0.8589\n",
      "Epoch 24/100\n",
      "250/250 [==============================] - 0s 949us/step - loss: 0.3426 - accuracy: 0.8597\n",
      "Epoch 25/100\n",
      "250/250 [==============================] - 0s 926us/step - loss: 0.3421 - accuracy: 0.8610\n",
      "Epoch 26/100\n",
      "250/250 [==============================] - 0s 947us/step - loss: 0.3416 - accuracy: 0.8601\n",
      "Epoch 27/100\n",
      "250/250 [==============================] - 0s 930us/step - loss: 0.3410 - accuracy: 0.8593\n",
      "Epoch 28/100\n",
      "250/250 [==============================] - 0s 931us/step - loss: 0.3407 - accuracy: 0.8595\n",
      "Epoch 29/100\n",
      "250/250 [==============================] - 0s 939us/step - loss: 0.3404 - accuracy: 0.8599\n",
      "Epoch 30/100\n",
      "250/250 [==============================] - 0s 927us/step - loss: 0.3397 - accuracy: 0.8615\n",
      "Epoch 31/100\n",
      "250/250 [==============================] - 0s 943us/step - loss: 0.3391 - accuracy: 0.8614\n",
      "Epoch 32/100\n",
      "250/250 [==============================] - 0s 923us/step - loss: 0.3389 - accuracy: 0.8614\n",
      "Epoch 33/100\n",
      "250/250 [==============================] - 0s 932us/step - loss: 0.3387 - accuracy: 0.8600\n",
      "Epoch 34/100\n",
      "250/250 [==============================] - 0s 939us/step - loss: 0.3383 - accuracy: 0.8611\n",
      "Epoch 35/100\n",
      "250/250 [==============================] - 0s 949us/step - loss: 0.3384 - accuracy: 0.8600\n",
      "Epoch 36/100\n",
      "250/250 [==============================] - 0s 927us/step - loss: 0.3376 - accuracy: 0.8611\n",
      "Epoch 37/100\n",
      "250/250 [==============================] - 0s 943us/step - loss: 0.3377 - accuracy: 0.8609\n",
      "Epoch 38/100\n",
      "250/250 [==============================] - 0s 954us/step - loss: 0.3374 - accuracy: 0.8616\n",
      "Epoch 39/100\n",
      "250/250 [==============================] - 0s 974us/step - loss: 0.3370 - accuracy: 0.8618\n",
      "Epoch 40/100\n",
      "250/250 [==============================] - 0s 949us/step - loss: 0.3368 - accuracy: 0.8625\n",
      "Epoch 41/100\n",
      "250/250 [==============================] - 0s 944us/step - loss: 0.3365 - accuracy: 0.8612\n",
      "Epoch 42/100\n",
      "250/250 [==============================] - 0s 961us/step - loss: 0.3358 - accuracy: 0.8624\n",
      "Epoch 43/100\n",
      "250/250 [==============================] - 0s 920us/step - loss: 0.3356 - accuracy: 0.8625\n",
      "Epoch 44/100\n",
      "250/250 [==============================] - 0s 930us/step - loss: 0.3354 - accuracy: 0.8612\n",
      "Epoch 45/100\n",
      "250/250 [==============================] - 0s 939us/step - loss: 0.3350 - accuracy: 0.8624\n",
      "Epoch 46/100\n",
      "250/250 [==============================] - 0s 952us/step - loss: 0.3347 - accuracy: 0.8622\n",
      "Epoch 47/100\n",
      "250/250 [==============================] - 0s 962us/step - loss: 0.3348 - accuracy: 0.8625\n",
      "Epoch 48/100\n",
      "250/250 [==============================] - 0s 1ms/step - loss: 0.3343 - accuracy: 0.8634\n",
      "Epoch 49/100\n",
      "250/250 [==============================] - 0s 963us/step - loss: 0.3342 - accuracy: 0.8640\n",
      "Epoch 50/100\n",
      "250/250 [==============================] - 0s 938us/step - loss: 0.3342 - accuracy: 0.8622\n",
      "Epoch 51/100\n",
      "250/250 [==============================] - 0s 941us/step - loss: 0.3338 - accuracy: 0.8640\n",
      "Epoch 52/100\n",
      "250/250 [==============================] - 0s 923us/step - loss: 0.3332 - accuracy: 0.8635\n",
      "Epoch 53/100\n",
      "250/250 [==============================] - 0s 951us/step - loss: 0.3333 - accuracy: 0.8634\n",
      "Epoch 54/100\n",
      "250/250 [==============================] - 0s 952us/step - loss: 0.3334 - accuracy: 0.8626\n",
      "Epoch 55/100\n",
      "250/250 [==============================] - 0s 976us/step - loss: 0.3337 - accuracy: 0.8631\n",
      "Epoch 56/100\n",
      "250/250 [==============================] - 0s 975us/step - loss: 0.3333 - accuracy: 0.8620\n",
      "Epoch 57/100\n",
      "250/250 [==============================] - 0s 951us/step - loss: 0.3331 - accuracy: 0.8634\n",
      "Epoch 58/100\n",
      "250/250 [==============================] - 0s 950us/step - loss: 0.3328 - accuracy: 0.8639\n",
      "Epoch 59/100\n",
      "250/250 [==============================] - 0s 966us/step - loss: 0.3330 - accuracy: 0.8622\n",
      "Epoch 60/100\n",
      "250/250 [==============================] - 0s 936us/step - loss: 0.3325 - accuracy: 0.8649\n",
      "Epoch 61/100\n",
      "250/250 [==============================] - 0s 922us/step - loss: 0.3323 - accuracy: 0.8646\n",
      "Epoch 62/100\n",
      "250/250 [==============================] - 0s 941us/step - loss: 0.3328 - accuracy: 0.8624\n",
      "Epoch 63/100\n",
      "250/250 [==============================] - 0s 950us/step - loss: 0.3325 - accuracy: 0.8630\n",
      "Epoch 64/100\n",
      "250/250 [==============================] - 0s 964us/step - loss: 0.3328 - accuracy: 0.8616\n",
      "Epoch 65/100\n",
      "250/250 [==============================] - 0s 1ms/step - loss: 0.3324 - accuracy: 0.8641\n",
      "Epoch 66/100\n",
      "250/250 [==============================] - 0s 962us/step - loss: 0.3323 - accuracy: 0.8616\n",
      "Epoch 67/100\n",
      "250/250 [==============================] - 0s 992us/step - loss: 0.3321 - accuracy: 0.8627\n",
      "Epoch 68/100\n",
      "250/250 [==============================] - 0s 973us/step - loss: 0.3319 - accuracy: 0.8639\n",
      "Epoch 69/100\n",
      "250/250 [==============================] - 0s 1ms/step - loss: 0.3321 - accuracy: 0.8629\n",
      "Epoch 70/100\n",
      "250/250 [==============================] - 0s 921us/step - loss: 0.3320 - accuracy: 0.8624\n",
      "Epoch 71/100\n",
      "250/250 [==============================] - 0s 953us/step - loss: 0.3320 - accuracy: 0.8629\n",
      "Epoch 72/100\n",
      "250/250 [==============================] - 0s 950us/step - loss: 0.3315 - accuracy: 0.8624\n",
      "Epoch 73/100\n",
      "250/250 [==============================] - 0s 963us/step - loss: 0.3316 - accuracy: 0.8640\n",
      "Epoch 74/100\n",
      "250/250 [==============================] - 0s 916us/step - loss: 0.3311 - accuracy: 0.8640\n",
      "Epoch 75/100\n",
      "250/250 [==============================] - 0s 1ms/step - loss: 0.3317 - accuracy: 0.8637\n",
      "Epoch 76/100\n",
      "250/250 [==============================] - 0s 1ms/step - loss: 0.3313 - accuracy: 0.8643\n",
      "Epoch 77/100\n",
      "250/250 [==============================] - 0s 953us/step - loss: 0.3313 - accuracy: 0.8643\n",
      "Epoch 78/100\n",
      "250/250 [==============================] - 0s 934us/step - loss: 0.3312 - accuracy: 0.8655\n",
      "Epoch 79/100\n",
      "250/250 [==============================] - 0s 1ms/step - loss: 0.3314 - accuracy: 0.8640\n",
      "Epoch 80/100\n",
      "250/250 [==============================] - 0s 970us/step - loss: 0.3315 - accuracy: 0.8618\n",
      "Epoch 81/100\n",
      "250/250 [==============================] - 0s 1ms/step - loss: 0.3310 - accuracy: 0.8634\n",
      "Epoch 82/100\n",
      "250/250 [==============================] - 0s 1ms/step - loss: 0.3306 - accuracy: 0.8635\n",
      "Epoch 83/100\n",
      "250/250 [==============================] - 0s 1ms/step - loss: 0.3309 - accuracy: 0.8651\n",
      "Epoch 84/100\n",
      "250/250 [==============================] - 0s 1ms/step - loss: 0.3308 - accuracy: 0.8637\n",
      "Epoch 85/100\n",
      "250/250 [==============================] - 0s 1ms/step - loss: 0.3306 - accuracy: 0.8634\n",
      "Epoch 86/100\n",
      "250/250 [==============================] - 0s 998us/step - loss: 0.3307 - accuracy: 0.8626\n",
      "Epoch 87/100\n",
      "250/250 [==============================] - 0s 976us/step - loss: 0.3305 - accuracy: 0.8635\n",
      "Epoch 88/100\n",
      "250/250 [==============================] - 0s 970us/step - loss: 0.3299 - accuracy: 0.8629\n",
      "Epoch 89/100\n",
      "250/250 [==============================] - 0s 1ms/step - loss: 0.3308 - accuracy: 0.8641\n",
      "Epoch 90/100\n",
      "250/250 [==============================] - 0s 1ms/step - loss: 0.3306 - accuracy: 0.8651\n",
      "Epoch 91/100\n",
      "250/250 [==============================] - 0s 1ms/step - loss: 0.3303 - accuracy: 0.8641\n",
      "Epoch 92/100\n",
      "250/250 [==============================] - 0s 1ms/step - loss: 0.3305 - accuracy: 0.8644\n",
      "Epoch 93/100\n",
      "250/250 [==============================] - 0s 1ms/step - loss: 0.3304 - accuracy: 0.8640\n",
      "Epoch 94/100\n",
      "250/250 [==============================] - 0s 995us/step - loss: 0.3303 - accuracy: 0.8644\n",
      "Epoch 95/100\n",
      "250/250 [==============================] - 0s 973us/step - loss: 0.3302 - accuracy: 0.8633\n",
      "Epoch 96/100\n",
      "250/250 [==============================] - 0s 959us/step - loss: 0.3300 - accuracy: 0.8649\n",
      "Epoch 97/100\n",
      "250/250 [==============================] - 0s 1ms/step - loss: 0.3305 - accuracy: 0.8629\n",
      "Epoch 98/100\n",
      "250/250 [==============================] - 0s 999us/step - loss: 0.3300 - accuracy: 0.8637\n",
      "Epoch 99/100\n",
      "250/250 [==============================] - 0s 1ms/step - loss: 0.3299 - accuracy: 0.8630\n",
      "Epoch 100/100\n",
      "250/250 [==============================] - 0s 974us/step - loss: 0.3299 - accuracy: 0.8645\n"
     ]
    },
    {
     "data": {
      "text/plain": [
       "<keras.src.callbacks.History at 0x1abf7e4c890>"
      ]
     },
     "execution_count": 11,
     "metadata": {},
     "output_type": "execute_result"
    }
   ],
   "source": [
    "#neural network has to be trained over a certain epoches to improve the accuracy over time\n",
    "ann.fit(X_train,Y_train,batch_size=32,epochs=100)"
   ]
  },
  {
   "cell_type": "markdown",
   "id": "4e235892",
   "metadata": {},
   "source": [
    "## Making the predictions and evaluating the model"
   ]
  },
  {
   "cell_type": "code",
   "execution_count": 12,
   "id": "8b57cf26",
   "metadata": {},
   "outputs": [
    {
     "name": "stdout",
     "output_type": "stream",
     "text": [
      "1/1 [==============================] - 0s 98ms/step\n",
      "customer will leave\n"
     ]
    }
   ],
   "source": [
    "Value=ann.predict(sc.transform([[1,0,0,600,1,40,3,60000,2,1,1,50000]]))\n",
    "Value=Value[0][0]\n",
    "if Value < 0.5:\n",
    "    print('customer will leave')\n",
    "else:\n",
    "    print('customer stay')"
   ]
  },
  {
   "cell_type": "markdown",
   "id": "3a6d8be5",
   "metadata": {},
   "source": [
    "## predicting the test set result"
   ]
  },
  {
   "cell_type": "code",
   "execution_count": 13,
   "id": "727e0cbc",
   "metadata": {},
   "outputs": [
    {
     "name": "stdout",
     "output_type": "stream",
     "text": [
      "63/63 [==============================] - 0s 2ms/step\n",
      "[[False]\n",
      " [False]\n",
      " [False]\n",
      " ...\n",
      " [False]\n",
      " [False]\n",
      " [False]]\n"
     ]
    }
   ],
   "source": [
    "y_pred=ann.predict(X_test)\n",
    "y_pred=(y_pred>0.5)\n",
    "print(y_pred)"
   ]
  },
  {
   "cell_type": "code",
   "execution_count": 14,
   "id": "3e02a1fb",
   "metadata": {},
   "outputs": [
    {
     "name": "stdout",
     "output_type": "stream",
     "text": [
      "[[0 0]\n",
      " [0 1]\n",
      " [0 0]\n",
      " ...\n",
      " [0 0]\n",
      " [0 0]\n",
      " [0 0]]\n"
     ]
    }
   ],
   "source": [
    "print(np.concatenate((y_pred.reshape(len(y_pred),1), Y_test.reshape(len(Y_test),1)),1))"
   ]
  },
  {
   "cell_type": "markdown",
   "id": "e3c9be19",
   "metadata": {},
   "source": [
    "## Making a confusion matrix"
   ]
  },
  {
   "cell_type": "code",
   "execution_count": 15,
   "id": "adb5c45c",
   "metadata": {},
   "outputs": [
    {
     "name": "stdout",
     "output_type": "stream",
     "text": [
      "[[1528   67]\n",
      " [ 203  202]]\n"
     ]
    },
    {
     "data": {
      "text/plain": [
       "0.865"
      ]
     },
     "execution_count": 15,
     "metadata": {},
     "output_type": "execute_result"
    }
   ],
   "source": [
    "from sklearn.metrics import confusion_matrix,accuracy_score\n",
    "cm=confusion_matrix(Y_test,y_pred)\n",
    "print(cm)\n",
    "accuracy_score(Y_test,y_pred)"
   ]
  },
  {
   "cell_type": "code",
   "execution_count": null,
   "id": "8f47a907",
   "metadata": {},
   "outputs": [],
   "source": []
  }
 ],
 "metadata": {
  "kernelspec": {
   "display_name": "Python 3",
   "language": "python",
   "name": "python3"
  },
  "language_info": {
   "codemirror_mode": {
    "name": "ipython",
    "version": 3
   },
   "file_extension": ".py",
   "mimetype": "text/x-python",
   "name": "python",
   "nbconvert_exporter": "python",
   "pygments_lexer": "ipython3",
   "version": "3.11.7"
  }
 },
 "nbformat": 4,
 "nbformat_minor": 5
}
